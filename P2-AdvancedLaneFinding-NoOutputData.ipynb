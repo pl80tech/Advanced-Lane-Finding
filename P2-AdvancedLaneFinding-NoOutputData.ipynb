{
 "cells": [
  {
   "cell_type": "markdown",
   "metadata": {},
   "source": [
    "# Advanced Lane Finding Project\n",
    "\n",
    "The goals / steps of this project are the following:\n",
    "\n",
    "* Compute the camera calibration matrix and distortion coefficients given a set of chessboard images.\n",
    "* Apply a distortion correction to raw images.\n",
    "* Use color transforms, gradients, etc., to create a thresholded binary image.\n",
    "* Apply a perspective transform to rectify binary image (\"birds-eye view\").\n",
    "* Detect lane pixels and fit to find the lane boundary.\n",
    "* Determine the curvature of the lane and vehicle position with respect to center.\n",
    "* Warp the detected lane boundaries back onto the original image.\n",
    "* Output visual display of the lane boundaries and numerical estimation of lane curvature and vehicle position.\n",
    "\n",
    "---\n",
    "# 1) Camera calibration using chessboard images"
   ]
  },
  {
   "cell_type": "code",
   "execution_count": null,
   "metadata": {
    "collapsed": true
   },
   "outputs": [],
   "source": [
    "# Importing some useful packages\n",
    "import numpy as np\n",
    "import cv2\n",
    "import glob\n",
    "import matplotlib.pyplot as plt\n",
    "import matplotlib.image as mpimg\n",
    "import os\n",
    "import pickle\n",
    "%matplotlib inline"
   ]
  },
  {
   "cell_type": "code",
   "execution_count": null,
   "metadata": {
    "collapsed": true
   },
   "outputs": [],
   "source": [
    "# Helper functions\n",
    "# Show 2 images on the same line for easy comparison\n",
    "def show2img(img1, img2, title1, title2):\n",
    "    f, (ax1, ax2) = plt.subplots(1, 2, figsize=(24, 9))\n",
    "    f.tight_layout()\n",
    "    ax1.imshow(img1)\n",
    "    ax1.set_title(title1, fontsize=50)\n",
    "    ax2.imshow(img2)\n",
    "    ax2.set_title(title2, fontsize=50)\n",
    "    plt.subplots_adjust(left=0., right=1, top=0.9, bottom=0.)\n",
    "\n",
    "# Show 2 images (the second one with gray scale) on the same line for easy comparison\n",
    "def show2img_gray(img1, img2, title1, title2):\n",
    "    f, (ax1, ax2) = plt.subplots(1, 2, figsize=(24, 9))\n",
    "    f.tight_layout()\n",
    "    ax1.imshow(img1)\n",
    "    ax1.set_title(title1, fontsize=50)\n",
    "    ax2.imshow(img2, cmap='gray')\n",
    "    ax2.set_title(title2, fontsize=50)\n",
    "    plt.subplots_adjust(left=0., right=1, top=0.9, bottom=0.)\n",
    "\n",
    "# Show 3 images on the same line for easy comparison\n",
    "def show3img(img1, img2, img3, title1, title2, title3):\n",
    "    f, (ax1, ax2, ax3) = plt.subplots(1, 3, figsize=(16, 6))\n",
    "    f.tight_layout()\n",
    "    ax1.imshow(img1)\n",
    "    ax1.set_title(title1, fontsize=50)\n",
    "    ax2.imshow(img2)\n",
    "    ax2.set_title(title2, fontsize=50)\n",
    "    ax3.imshow(img3)\n",
    "    ax3.set_title(title3, fontsize=50)\n",
    "    plt.subplots_adjust(left=0., right=1, top=0.9, bottom=0.)"
   ]
  },
  {
   "cell_type": "code",
   "execution_count": null,
   "metadata": {
    "collapsed": true
   },
   "outputs": [],
   "source": [
    "# Prepare object points, like (0,0,0), (1,0,0), (2,0,0) ....,(6,5,0)\n",
    "nx = 9 # the number of inside corners in x\n",
    "ny = 6 # the number of inside corners in y\n",
    "\n",
    "objp = np.zeros((ny*nx,3), np.float32)\n",
    "objp[:,:2] = np.mgrid[0:nx,0:ny].T.reshape(-1,2)\n",
    "\n",
    "# Arrays to store object points and image points from all the images.\n",
    "objpoints = [] # 3d points in real world space\n",
    "imgpoints = [] # 2d points in image plane."
   ]
  },
  {
   "cell_type": "code",
   "execution_count": null,
   "metadata": {},
   "outputs": [],
   "source": [
    "# Make a list of calibration images\n",
    "images = os.listdir(\"camera_cal/\")\n",
    "\n",
    "# Step through the list and search for chessboard corners\n",
    "for fname in images:\n",
    "    # Read image\n",
    "    img = cv2.imread('camera_cal/'+fname)\n",
    "    # Create grayscale image\n",
    "    gray = cv2.cvtColor(img,cv2.COLOR_BGR2GRAY)\n",
    "    # Find the chessboard corners\n",
    "    ret, corners = cv2.findChessboardCorners(gray, (nx,ny),None)\n",
    "\n",
    "    if ret == True:\n",
    "        # If found, add object points, image points\n",
    "        objpoints.append(objp)\n",
    "        imgpoints.append(corners)\n",
    "        # Draw and display the corners\n",
    "        img = cv2.drawChessboardCorners(img, (nx,ny), corners, ret)\n",
    "        write_name = 'output_images/corners_'+fname\n",
    "        cv2.imwrite(write_name, img)\n",
    "    else:\n",
    "        # If not, return the filename\n",
    "        print(fname,\"can't be processed\")"
   ]
  },
  {
   "cell_type": "code",
   "execution_count": null,
   "metadata": {},
   "outputs": [],
   "source": [
    "# Show an image (calibration2.jpg) & its chessboard corners\n",
    "img1 = cv2.imread('camera_cal/calibration2.jpg')\n",
    "img2 = cv2.imread('output_images/corners_calibration2.jpg')\n",
    "show2img(img1, img2, 'Calibration image', 'Image with chessboard corners')"
   ]
  },
  {
   "cell_type": "code",
   "execution_count": null,
   "metadata": {},
   "outputs": [],
   "source": [
    "# Apply camera calibration to get the matrix (mtx) and distortion coefficients (dist)\n",
    "ret, mtx, dist, rvecs, tvecs = cv2.calibrateCamera(objpoints, imgpoints, gray.shape[::-1], None, None)\n",
    "\n",
    "# Print out the value of mxt & dist\n",
    "print(\"Here is the matrix (mtx):\")\n",
    "print(mtx)\n",
    "print(\"Here is the distortion coefficients (dist):\")\n",
    "print(dist)"
   ]
  },
  {
   "cell_type": "code",
   "execution_count": null,
   "metadata": {
    "collapsed": true
   },
   "outputs": [],
   "source": [
    "# Save the camera calibration result for later use\n",
    "dist_pickle = {}\n",
    "dist_pickle[\"mtx\"] = mtx\n",
    "dist_pickle[\"dist\"] = dist\n",
    "pickle.dump(dist_pickle, open(\"calibrated_result.p\",\"wb\"))"
   ]
  },
  {
   "cell_type": "markdown",
   "metadata": {},
   "source": [
    "# 2) Apply a distortion correction to raw images"
   ]
  },
  {
   "cell_type": "code",
   "execution_count": null,
   "metadata": {
    "collapsed": true
   },
   "outputs": [],
   "source": [
    "# Read the matrix (mtx) and coefficients (dist) from calibrated result\n",
    "# Use the saved data to avoid running the calibration from the beginning when restarting kernel, etc\n",
    "dist_pickle = pickle.load(open(\"calibrated_result.p\", \"rb\"))\n",
    "mtx = dist_pickle[\"mtx\"]\n",
    "dist = dist_pickle[\"dist\"]"
   ]
  },
  {
   "cell_type": "code",
   "execution_count": null,
   "metadata": {
    "collapsed": true
   },
   "outputs": [],
   "source": [
    "# Undistort each chessboard image using the calculated matrix (mtx) & coefficients (dist)\n",
    "for fname in images:\n",
    "    # Read image\n",
    "    img = cv2.imread('camera_cal/'+fname)\n",
    "    # Create undistorted image & save to file in \"output_images\" folder\n",
    "    undist = cv2.undistort(img, mtx, dist, None, mtx)\n",
    "    write_name = 'output_images/undistorted_'+fname\n",
    "    cv2.imwrite(write_name, undist)"
   ]
  },
  {
   "cell_type": "code",
   "execution_count": null,
   "metadata": {},
   "outputs": [],
   "source": [
    "# Show 3 images: original, with chessboard corners, undistorted\n",
    "img1 = cv2.imread('camera_cal/calibration3.jpg')\n",
    "img2 = cv2.imread('output_images/corners_calibration3.jpg')\n",
    "img3 = cv2.imread('output_images/undistorted_calibration3.jpg')\n",
    "show3img(img1, img2, img3, 'Original', 'With corners', 'Undistorted')"
   ]
  },
  {
   "cell_type": "code",
   "execution_count": null,
   "metadata": {},
   "outputs": [],
   "source": [
    "# Generate undistorted image and show with its raw image\n",
    "raw_original = mpimg.imread('test_images/test1.jpg')\n",
    "raw_undist = cv2.undistort(raw_original, mtx, dist, None, mtx)\n",
    "show2img(raw_original, raw_undist, 'Original image', 'Undistorted image')"
   ]
  },
  {
   "cell_type": "code",
   "execution_count": null,
   "metadata": {
    "collapsed": true
   },
   "outputs": [],
   "source": [
    "\"\"\"\n",
    "For writeup:\n",
    "- Apply the process to undistort all images in \"/test_images/\" folder\n",
    "- Save the undistorted images to \"/output_images/\" folder\n",
    "\"\"\"\n",
    "# A function to undistort all images in the list\n",
    "def undistort_all(list):\n",
    "    # Undistort each test image \n",
    "    for fname in list:\n",
    "        # Read image\n",
    "        img = cv2.imread('test_images/'+fname)\n",
    "        # Create undistorted image & save to file in \"output_images\" folder\n",
    "        undist = cv2.undistort(img, mtx, dist, None, mtx)\n",
    "        write_name = 'output_images/undistorted_'+fname\n",
    "        cv2.imwrite(write_name, undist)\n",
    "\n",
    "# List of test images\n",
    "test_images = os.listdir(\"test_images/\")\n",
    "\n",
    "# Call the procees to undistort all images\n",
    "undistort_all(test_images)"
   ]
  },
  {
   "cell_type": "markdown",
   "metadata": {},
   "source": [
    "# 3) Use color transforms, gradients, etc., to create a thresholded binary image.\n",
    "### Implement some helper functions"
   ]
  },
  {
   "cell_type": "code",
   "execution_count": null,
   "metadata": {
    "collapsed": true
   },
   "outputs": [],
   "source": [
    "# A function that takes an image, gradient orientation,\n",
    "# and threshold min / max values.\n",
    "def abs_sobel_thresh(img, orient='x', sobel_kernel=3, thresh=(0, 255)):\n",
    "    # Convert to grayscale\n",
    "    gray = cv2.cvtColor(img, cv2.COLOR_RGB2GRAY)\n",
    "    # Apply x or y gradient with the OpenCV Sobel() function\n",
    "    # and take the absolute value\n",
    "    if orient == 'x':\n",
    "        abs_sobel = np.absolute(cv2.Sobel(gray, cv2.CV_64F, 1, 0))\n",
    "    if orient == 'y':\n",
    "        abs_sobel = np.absolute(cv2.Sobel(gray, cv2.CV_64F, 0, 1))\n",
    "    # Rescale back to 8 bit integer\n",
    "    scaled_sobel = np.uint8(255*abs_sobel/np.max(abs_sobel))\n",
    "    # Create a copy and apply the threshold to generate binary image\n",
    "    grad_binary = np.zeros_like(scaled_sobel)\n",
    "    grad_binary[(scaled_sobel >= thresh[0]) & (scaled_sobel <= thresh[1])] = 1 \n",
    "    return grad_binary\n",
    "\n",
    "# A function to return the magnitude of the gradient\n",
    "# for a given sobel kernel size and threshold values\n",
    "def mag_thresh(img, sobel_kernel=3, mag_thresh=(0, 255)):\n",
    "    # Convert to grayscale\n",
    "    gray = cv2.cvtColor(img, cv2.COLOR_RGB2GRAY)\n",
    "    # Take both Sobel x and y gradients\n",
    "    sobelx = cv2.Sobel(gray, cv2.CV_64F, 1, 0, ksize=sobel_kernel)\n",
    "    sobely = cv2.Sobel(gray, cv2.CV_64F, 0, 1, ksize=sobel_kernel)\n",
    "    # Calculate the gradient magnitude\n",
    "    gradmag = np.sqrt(sobelx**2 + sobely**2)\n",
    "    # Rescale to 8 bit\n",
    "    scale_factor = np.max(gradmag)/255 \n",
    "    gradmag = (gradmag/scale_factor).astype(np.uint8) \n",
    "    # Create a binary image of ones where threshold is met, zeros otherwise\n",
    "    mag_binary = np.zeros_like(gradmag)\n",
    "    mag_binary[(gradmag >= mag_thresh[0]) & (gradmag <= mag_thresh[1])] = 1\n",
    "    return mag_binary\n",
    "\n",
    "# A function to return the direction of the gradient\n",
    "# for a given sobel kernel size and threshold values\n",
    "def dir_threshold(img, sobel_kernel=3, thresh=(0, np.pi/2)):\n",
    "    # Grayscale\n",
    "    gray = cv2.cvtColor(img, cv2.COLOR_RGB2GRAY)\n",
    "    # Calculate the x and y gradients\n",
    "    sobelx = cv2.Sobel(gray, cv2.CV_64F, 1, 0, ksize=sobel_kernel)\n",
    "    sobely = cv2.Sobel(gray, cv2.CV_64F, 0, 1, ksize=sobel_kernel)\n",
    "    # Take the absolute value of the gradient direction, \n",
    "    # apply a threshold, and create a binary image result\n",
    "    absgraddir = np.arctan2(np.absolute(sobely), np.absolute(sobelx))\n",
    "    dir_binary =  np.zeros_like(absgraddir)\n",
    "    dir_binary[(absgraddir >= thresh[0]) & (absgraddir <= thresh[1])] = 1\n",
    "    return dir_binary\n",
    "\n",
    "# A function to threshold an image for a given range of color\n",
    "def color_thresh(img, color_thresh):\n",
    "    gray = cv2.cvtColor(img, cv2.COLOR_RGB2GRAY)\n",
    "    color_binary = np.zeros_like(gray)\n",
    "    color_binary[(gray > color_thresh[0]) & (gray <= color_thresh[1])] = 1\n",
    "    return color_binary\n",
    "\n",
    "# A function that thresholds the S-channel of HLS\n",
    "def hls_select(img, thresh=(0, 255)):\n",
    "    hls = cv2.cvtColor(img, cv2.COLOR_RGB2HLS)\n",
    "    s_channel = hls[:,:,2]\n",
    "    hls_binary = np.zeros_like(s_channel)\n",
    "    hls_binary[(s_channel > thresh[0]) & (s_channel <= thresh[1])] = 1\n",
    "    return hls_binary\n",
    "\n",
    "# A function that thresholds the L-channel of LUV\n",
    "def luv_select(img, thresh=(0, 255)):\n",
    "    luv = cv2.cvtColor(img, cv2.COLOR_RGB2LUV)\n",
    "    l_channel = luv[:,:,0]\n",
    "    luv_binary = np.zeros_like(l_channel)\n",
    "    luv_binary[(l_channel > thresh[0]) & (l_channel <= thresh[1])] = 1\n",
    "    return luv_binary\n",
    "\n",
    "# A function that thresholds the B-channel of LAB\n",
    "def lab_select(img, thresh=(0, 255)):\n",
    "    lab = cv2.cvtColor(img, cv2.COLOR_RGB2LAB)\n",
    "    b_channel = lab[:,:,2]\n",
    "    lab_binary = np.zeros_like(b_channel)\n",
    "    lab_binary[(b_channel > thresh[0]) & (b_channel <= thresh[1])] = 1\n",
    "    return lab_binary"
   ]
  },
  {
   "cell_type": "code",
   "execution_count": null,
   "metadata": {
    "collapsed": true
   },
   "outputs": [],
   "source": [
    "# A function to combine several thresholds\n",
    "def combined_thresh(img):\n",
    "    # Generate the binary image for each threshold\n",
    "    \"\"\"\n",
    "    gradx = abs_sobel_thresh(img, orient='x', thresh=(20,100))\n",
    "    grady = abs_sobel_thresh(img, orient='y', thresh=(20,100))\n",
    "    mag_binary = mag_thresh(img, sobel_kernel=3, mag_thresh=(30, 100))\n",
    "    dir_binary = dir_threshold(img, sobel_kernel=15, thresh=(0.7, 1.3))\n",
    "    hls_binary = hls_select(img, thresh=(180, 255))\n",
    "    \"\"\"\n",
    "    color_binary = color_thresh(img, color_thresh=(200, 255))\n",
    "    luv_binary = luv_select(img, thresh=(225, 255))\n",
    "    lab_binary = lab_select(img, thresh=(155, 200))\n",
    "    \n",
    "    # Binary image with combined thresholds\n",
    "    combined_binary = np.zeros_like(color_binary)\n",
    "    \"\"\"\n",
    "    combined_binary[((gradx == 1) & (grady == 1)) | ((mag_binary == 1) & (dir_binary == 1))] = 1\n",
    "    combined_binary[(color_binary == 1) | (hls_binary == 1) | (luv_binary == 1) | (lab_binary == 1)] = 1\n",
    "    \"\"\"\n",
    "    combined_binary[(color_binary == 1) | (luv_binary == 1) | (lab_binary == 1)] = 1\n",
    "    \n",
    "    return combined_binary"
   ]
  },
  {
   "cell_type": "code",
   "execution_count": null,
   "metadata": {
    "collapsed": true
   },
   "outputs": [],
   "source": [
    "# Default thresholding method\n",
    "# 1 : Color threshold (grayscale)\n",
    "# 2 : HLS S-Channel threshold\n",
    "# 3 : LUV L-Channel threshold\n",
    "# 4 : LAB B-Channel threshold\n",
    "# 5 : Combined threshold\n",
    "threshold_method = 5"
   ]
  },
  {
   "cell_type": "code",
   "execution_count": null,
   "metadata": {
    "collapsed": true
   },
   "outputs": [],
   "source": [
    "# A function to select method for applying thresholds\n",
    "def thresh_binary(img):\n",
    "    if threshold_method == 1:\n",
    "        binary_image = color_thresh(img, color_thresh=(200, 255))\n",
    "    elif threshold_method == 2:\n",
    "        binary_image = hls_select(img, thresh=(180, 255))\n",
    "    elif threshold_method == 3:\n",
    "        binary_image = luv_select(img, thresh=(225, 255))\n",
    "    elif threshold_method == 4:\n",
    "        binary_image = lab_select(img, thresh=(155, 200))\n",
    "    elif threshold_method == 5:\n",
    "        binary_image = combined_thresh(img)\n",
    "\n",
    "    return binary_image"
   ]
  },
  {
   "cell_type": "markdown",
   "metadata": {},
   "source": [
    "### Apply to test image to create thresholded binary images"
   ]
  },
  {
   "cell_type": "code",
   "execution_count": null,
   "metadata": {
    "collapsed": true
   },
   "outputs": [],
   "source": [
    "# Read the image to be tested\n",
    "test_img = mpimg.imread('test_images/test1.jpg')\n",
    "# Undistort the test image\n",
    "test_img_undist = cv2.undistort(test_img, mtx, dist, None, mtx)"
   ]
  },
  {
   "cell_type": "code",
   "execution_count": null,
   "metadata": {},
   "outputs": [],
   "source": [
    "# Call the function to apply gradient threshold (on x direction)\n",
    "gradx = abs_sobel_thresh(test_img_undist, orient='x', thresh=(20,100))\n",
    "# Show 2 images (original & binary)\n",
    "show2img_gray(test_img_undist, gradx, \"Original Image\", \"Gradient Threshold (x axis)\")"
   ]
  },
  {
   "cell_type": "code",
   "execution_count": null,
   "metadata": {},
   "outputs": [],
   "source": [
    "# Call the function to apply gradient threshold (on y direction)\n",
    "grady = abs_sobel_thresh(test_img_undist, orient='y', thresh=(20,100))\n",
    "# Show 2 images (original & binary)\n",
    "show2img_gray(test_img_undist, grady, \"Original Image\", \"Gradient Threshold(y axis)\")"
   ]
  },
  {
   "cell_type": "code",
   "execution_count": null,
   "metadata": {},
   "outputs": [],
   "source": [
    "# Call the function to apply gradient magnitude threshold\n",
    "mag_binary = mag_thresh(test_img_undist, sobel_kernel=3, mag_thresh=(30, 100))\n",
    "# Show 2 images (original & binary)\n",
    "show2img_gray(test_img_undist, mag_binary, \"Original Image\", \"Magnitude Threshold\")"
   ]
  },
  {
   "cell_type": "code",
   "execution_count": null,
   "metadata": {},
   "outputs": [],
   "source": [
    "# Call the function to apply gradient direction threshold\n",
    "dir_binary = dir_threshold(test_img_undist, sobel_kernel=15, thresh=(0.7, 1.3))\n",
    "# Show 2 images (original & binary)\n",
    "show2img_gray(test_img_undist, dir_binary, \"Original Image\", \"Direction Threshold\")"
   ]
  },
  {
   "cell_type": "code",
   "execution_count": null,
   "metadata": {},
   "outputs": [],
   "source": [
    "# Binary image with combined thresholds\n",
    "combined_binary = combined_thresh(test_img_undist)\n",
    "# Show 2 images (original & binary)\n",
    "show2img_gray(test_img_undist, combined_binary, \"Original Image\", \"Combined thresholds\")"
   ]
  },
  {
   "cell_type": "code",
   "execution_count": null,
   "metadata": {},
   "outputs": [],
   "source": [
    "# Binary image with color threshold (on grayscale)\n",
    "color_binary = color_thresh(test_img_undist, color_thresh=(200, 255))\n",
    "# Show 2 images (original & binary)\n",
    "show2img_gray(test_img_undist, color_binary, \"Original Image\", \"Color Threshold\")"
   ]
  },
  {
   "cell_type": "code",
   "execution_count": null,
   "metadata": {},
   "outputs": [],
   "source": [
    "# Binary image with color threshold (S-Channel of HLS)\n",
    "hls_binary = hls_select(test_img_undist, thresh=(180, 255))\n",
    "# Show 2 images (original & binary)\n",
    "show2img_gray(test_img_undist, hls_binary, \"Original Image\", \"S-Channel (HLS) Threshold\")"
   ]
  },
  {
   "cell_type": "code",
   "execution_count": null,
   "metadata": {},
   "outputs": [],
   "source": [
    "# Binary image with color threshold (L-channel of LUV)\n",
    "luv_binary = luv_select(test_img_undist, thresh=(225, 255))\n",
    "# Show 2 images (original & binary)\n",
    "show2img_gray(test_img_undist, luv_binary, \"Original Image\", \"L-Channel (LUV) Threshold\")"
   ]
  },
  {
   "cell_type": "code",
   "execution_count": null,
   "metadata": {},
   "outputs": [],
   "source": [
    "# Binary image with color threshold (B-channel of LAB)\n",
    "lab_binary = lab_select(test_img_undist, thresh=(155, 200))\n",
    "# Show 2 images (original & binary)\n",
    "show2img_gray(test_img_undist, lab_binary, \"Original Image\", \"B-Channel (LAB) Threshold\")"
   ]
  },
  {
   "cell_type": "markdown",
   "metadata": {},
   "source": [
    "### Pipeline: apply to all test images & save thresholded binary images"
   ]
  },
  {
   "cell_type": "code",
   "execution_count": null,
   "metadata": {
    "collapsed": true
   },
   "outputs": [],
   "source": [
    "\"\"\"\n",
    "- Apply the process to all test images folder to create thresholded binary images\n",
    "- Save the thresholded binary images to \"/output_binary_images/\" folder for later use\n",
    "\"\"\"\n",
    "\n",
    "# A function to create thresholded binary image from all images in the list\n",
    "def threshold_all(list):\n",
    "    for fname in list:\n",
    "        # Read test image\n",
    "        test_img = mpimg.imread('test_images/'+fname)\n",
    "        # Undistort the test image\n",
    "        test_img_undist = cv2.undistort(test_img, mtx, dist, None, mtx)\n",
    "    \n",
    "        # Call the function to apply gradient threshold (on x direction)\n",
    "        gradx = abs_sobel_thresh(test_img_undist, orient='x', thresh=(20,100))\n",
    "        # Call the function to apply gradient threshold (on y direction)\n",
    "        grady = abs_sobel_thresh(test_img_undist, orient='y', thresh=(20,100))\n",
    "        # Call the function to apply gradient magnitude threshold\n",
    "        mag_binary = mag_thresh(test_img_undist, sobel_kernel=3, mag_thresh=(30, 100))\n",
    "        # Call the function to apply gradient direction threshold\n",
    "        dir_binary = dir_threshold(test_img_undist, sobel_kernel=15, thresh=(0.7, 1.3))\n",
    "        # Binary image with color threshold\n",
    "        color_binary = color_thresh(test_img_undist, color_thresh=(200, 255))\n",
    "        # Binary image with color threshold (HLS S-Channel)\n",
    "        hls_binary = hls_select(test_img_undist, thresh=(180, 255))\n",
    "        # Binary image with color threshold (LUV L-Channel)\n",
    "        luv_binary = luv_select(test_img_undist, thresh=(225, 255))\n",
    "        # Binary image with color threshold (LAB B-Channel)\n",
    "        lab_binary = lab_select(test_img_undist, thresh=(155, 200))\n",
    "        # Binary image with combined thresholds\n",
    "        combined_binary = combined_thresh(test_img_undist)\n",
    "    \n",
    "        # Save the thresholded binary images\n",
    "        mpimg.imsave('output_binary_images/gradx_'+fname, gradx, cmap=\"gray\")\n",
    "        mpimg.imsave('output_binary_images/grady_'+fname, grady, cmap=\"gray\")\n",
    "        mpimg.imsave('output_binary_images/mag_'+fname, mag_binary, cmap=\"gray\")\n",
    "        mpimg.imsave('output_binary_images/dir_'+fname, dir_binary, cmap=\"gray\")\n",
    "        mpimg.imsave('output_binary_images/color_'+fname, color_binary, cmap=\"gray\")\n",
    "        mpimg.imsave('output_binary_images/hls_'+fname, hls_binary, cmap=\"gray\")\n",
    "        mpimg.imsave('output_binary_images/luv_'+fname, luv_binary, cmap=\"gray\")\n",
    "        mpimg.imsave('output_binary_images/lab_'+fname, lab_binary, cmap=\"gray\")\n",
    "        mpimg.imsave('output_binary_images/combined_'+fname, combined_binary, cmap=\"gray\")\n",
    "\n",
    "# List of test images\n",
    "test_images = os.listdir(\"test_images/\")\n",
    "\n",
    "# Call the process to create thresholded binary images from all test images\n",
    "threshold_all(test_images)"
   ]
  },
  {
   "cell_type": "markdown",
   "metadata": {},
   "source": [
    "# 4) Apply a perspective transform to rectify binary image (\"birds-eye view\")"
   ]
  },
  {
   "cell_type": "code",
   "execution_count": null,
   "metadata": {
    "collapsed": true
   },
   "outputs": [],
   "source": [
    "# A function to perform perspective transform to image from given points (src & dst)\n",
    "def warped(img, src, dst):\n",
    "    # Get image size\n",
    "    img_size = (img.shape[1], img.shape[0])\n",
    "    # Calculate transform matrix\n",
    "    M = cv2.getPerspectiveTransform(src, dst)\n",
    "    # Apply perpective transform with same size as input image\n",
    "    warped = cv2.warpPerspective(img, M, img_size, flags=cv2.INTER_NEAREST)\n",
    "    return warped, M"
   ]
  },
  {
   "cell_type": "code",
   "execution_count": null,
   "metadata": {
    "collapsed": true
   },
   "outputs": [],
   "source": [
    "# A function to draw lines connecting 4 points\n",
    "def draw_boundary(img, fourpoints, color, thickness):\n",
    "    p1 = np.int32(fourpoints)[0]\n",
    "    p2 = np.int32(fourpoints)[1]\n",
    "    p3 = np.int32(fourpoints)[2]\n",
    "    p4 = np.int32(fourpoints)[3]\n",
    "    cv2.line(img, (p1[0], p1[1]), (p2[0], p2[1]), color, thickness)\n",
    "    cv2.line(img, (p2[0], p2[1]), (p3[0], p3[1]), color, thickness)\n",
    "    cv2.line(img, (p3[0], p3[1]), (p4[0], p4[1]), color, thickness)\n",
    "    cv2.line(img, (p4[0], p4[1]), (p1[0], p1[1]), color, thickness)\n",
    "    return img"
   ]
  },
  {
   "cell_type": "code",
   "execution_count": null,
   "metadata": {
    "collapsed": true
   },
   "outputs": [],
   "source": [
    "# Choose reference points for the transform (src & dst)\n",
    "# Note: currently picking up from writeup template. To be optimized later.\n",
    "img_size = (test_img.shape[1], test_img.shape[0])\n",
    "\n",
    "src = np.float32(\n",
    "    [[(img_size[0] / 2) - 55, img_size[1] / 2 + 100],\n",
    "    [((img_size[0] / 6) - 10), img_size[1]],\n",
    "    [(img_size[0] * 5 / 6) + 60, img_size[1]],\n",
    "    [(img_size[0] / 2 + 55), img_size[1] / 2 + 100]])\n",
    "dst = np.float32(\n",
    "    [[(img_size[0] / 4), 0],\n",
    "    [(img_size[0] / 4), img_size[1]],\n",
    "    [(img_size[0] * 3 / 4), img_size[1]],\n",
    "    [(img_size[0] * 3 / 4), 0]])"
   ]
  },
  {
   "cell_type": "markdown",
   "metadata": {},
   "source": [
    "## Apply to test image with straight line"
   ]
  },
  {
   "cell_type": "code",
   "execution_count": null,
   "metadata": {},
   "outputs": [],
   "source": [
    "# Read the test image with straight line\n",
    "straight_img = mpimg.imread('test_images/straight_lines1.jpg')\n",
    "# Undistort the test image\n",
    "straight_img_undist = cv2.undistort(straight_img, mtx, dist, None, mtx)\n",
    "# Create a warped image by perspective transform \n",
    "straight_img_warped, M_perspective = warped(straight_img_undist, src, dst)\n",
    "# Draw the boundary lines connecting 4 points of src & dst\n",
    "straight_img_undist_lines = draw_boundary(straight_img_undist, src, color=(255,0,0), thickness=4)\n",
    "straight_img_warped_lines = draw_boundary(straight_img_warped, dst, color=(255,0,0), thickness=4)\n",
    "# Show 2 images\n",
    "show2img(straight_img_undist_lines, straight_img_warped_lines, \"Undistorted Image\", \"Warped Image\")\n",
    "# Save 2 images\n",
    "mpimg.imsave('output_images/straight_img_undist_lines.jpg', straight_img_undist_lines)\n",
    "mpimg.imsave('output_images/straight_img_warped_lines.jpg', straight_img_warped_lines)"
   ]
  },
  {
   "cell_type": "markdown",
   "metadata": {},
   "source": [
    "## Apply to other test images"
   ]
  },
  {
   "cell_type": "code",
   "execution_count": null,
   "metadata": {},
   "outputs": [],
   "source": [
    "# Create a warped image by perspective transform\n",
    "test_img_warped, M_perspective = warped(test_img_undist, src, dst)\n",
    "# Show 2 images\n",
    "show2img(test_img_undist, test_img_warped, \"Undistorted Image\", \"Warped Image\")"
   ]
  },
  {
   "cell_type": "code",
   "execution_count": null,
   "metadata": {
    "collapsed": true
   },
   "outputs": [],
   "source": [
    "# Create a thresholded binary image with selected method (for further testing)\n",
    "thresh_img = thresh_binary(test_img_undist)"
   ]
  },
  {
   "cell_type": "code",
   "execution_count": null,
   "metadata": {},
   "outputs": [],
   "source": [
    "# Create a warped binary image by perspective transform\n",
    "thresh_img_warped, M_perspective = warped(thresh_img, src, dst)\n",
    "# Show 2 images\n",
    "show2img_gray(test_img_warped, thresh_img_warped, \"Warped Image\", \"Warped Binary Image\")"
   ]
  },
  {
   "cell_type": "code",
   "execution_count": null,
   "metadata": {
    "collapsed": true
   },
   "outputs": [],
   "source": [
    "# A function to run perspective transform to all images in the list\n",
    "def transform_all(list):\n",
    "    for fname in list:\n",
    "        # Read image\n",
    "        test_img = mpimg.imread('test_images/'+fname)\n",
    "        # Undistort the test image\n",
    "        test_img_undist = cv2.undistort(test_img, mtx, dist, None, mtx) \n",
    "        # Create a warped image by perspective transform\n",
    "        test_img_warped, M_perspective = warped(test_img_undist, src, dst)\n",
    "        # Save warped image\n",
    "        mpimg.imsave('output_images/warped_'+fname, test_img_warped)\n",
    "\n",
    "# Apply perspective transform to all test images & save to files (for writeup)\n",
    "transform_all(test_images)"
   ]
  },
  {
   "cell_type": "markdown",
   "metadata": {},
   "source": [
    "# 5) Detect lane pixels and fit to find the lane boundary"
   ]
  },
  {
   "cell_type": "code",
   "execution_count": null,
   "metadata": {
    "collapsed": true
   },
   "outputs": [],
   "source": [
    "# A function to create histogram of given image\n",
    "def hist(img):\n",
    "    # Grab only the bottom half of the image\n",
    "    # Lane lines are likely to be mostly vertical nearest to the car\n",
    "    bottom_half = img[img.shape[0]//2:,:]\n",
    "\n",
    "    # Sum across image pixels vertically - make sure to set an `axis`\n",
    "    # i.e. the highest areas of vertical lines should be larger values\n",
    "    histogram = np.sum(bottom_half, axis=0)\n",
    "    \n",
    "    return histogram"
   ]
  },
  {
   "cell_type": "code",
   "execution_count": null,
   "metadata": {},
   "outputs": [],
   "source": [
    "# Read the binary image to be called for histogram creation\n",
    "# Specify here a binary image which is thresholded & transformed above\n",
    "binaryimage = thresh_img_warped\n",
    "\n",
    "# Create histogram of image binary activations\n",
    "histogram = hist(binaryimage)\n",
    "\n",
    "# Visualize the resulting histogram\n",
    "plt.plot(histogram)"
   ]
  },
  {
   "cell_type": "code",
   "execution_count": null,
   "metadata": {
    "collapsed": true
   },
   "outputs": [],
   "source": [
    "# A function to find lane pixels from binary warped image\n",
    "def find_lane_pixels(binary_warped):\n",
    "    # Take a histogram of the bottom half of the image\n",
    "    histogram = np.sum(binary_warped[binary_warped.shape[0]//2:,:], axis=0)\n",
    "    # Create an output image to draw on and visualize the result\n",
    "    out_img = np.dstack((binary_warped, binary_warped, binary_warped))\n",
    "    # Find the peak of the left and right halves of the histogram\n",
    "    # These will be the starting point for the left and right lines\n",
    "    midpoint = np.int(histogram.shape[0]//2)\n",
    "    leftx_base = np.argmax(histogram[:midpoint])\n",
    "    rightx_base = np.argmax(histogram[midpoint:]) + midpoint\n",
    "\n",
    "    # HYPERPARAMETERS\n",
    "    # Choose the number of sliding windows\n",
    "    nwindows = 9\n",
    "    # Set the width of the windows +/- margin\n",
    "    margin = 100\n",
    "    # Set minimum number of pixels found to recenter window\n",
    "    minpix = 50\n",
    "\n",
    "    # Set height of windows - based on nwindows above and image shape\n",
    "    window_height = np.int(binary_warped.shape[0]//nwindows)\n",
    "    # Identify the x and y positions of all nonzero pixels in the image\n",
    "    nonzero = binary_warped.nonzero()\n",
    "    nonzeroy = np.array(nonzero[0])\n",
    "    nonzerox = np.array(nonzero[1])\n",
    "    # Current positions to be updated later for each window in nwindows\n",
    "    leftx_current = leftx_base\n",
    "    rightx_current = rightx_base\n",
    "\n",
    "    # Create empty lists to receive left and right lane pixel indices\n",
    "    left_lane_inds = []\n",
    "    right_lane_inds = []\n",
    "\n",
    "    # Step through the windows one by one\n",
    "    for window in range(nwindows):\n",
    "        # Identify window boundaries in x and y (and right and left)\n",
    "        win_y_low = binary_warped.shape[0] - (window+1)*window_height\n",
    "        win_y_high = binary_warped.shape[0] - window*window_height\n",
    "        win_xleft_low = leftx_current - margin\n",
    "        win_xleft_high = leftx_current + margin\n",
    "        win_xright_low = rightx_current - margin\n",
    "        win_xright_high = rightx_current + margin\n",
    "        \n",
    "        # Draw the windows on the visualization image\n",
    "        cv2.rectangle(out_img,(win_xleft_low,win_y_low),\n",
    "        (win_xleft_high,win_y_high),(0,255,0), 2) \n",
    "        cv2.rectangle(out_img,(win_xright_low,win_y_low),\n",
    "        (win_xright_high,win_y_high),(0,255,0), 2) \n",
    "        \n",
    "        # Identify the nonzero pixels in x and y within the window #\n",
    "        good_left_inds = ((nonzeroy >= win_y_low) & (nonzeroy < win_y_high) & \n",
    "        (nonzerox >= win_xleft_low) &  (nonzerox < win_xleft_high)).nonzero()[0]\n",
    "        good_right_inds = ((nonzeroy >= win_y_low) & (nonzeroy < win_y_high) & \n",
    "        (nonzerox >= win_xright_low) &  (nonzerox < win_xright_high)).nonzero()[0]\n",
    "        \n",
    "        # Append these indices to the lists\n",
    "        left_lane_inds.append(good_left_inds)\n",
    "        right_lane_inds.append(good_right_inds)\n",
    "        \n",
    "        # If the number of detected pixels exceed threshold (minpix), \n",
    "        # recenter next window on the mean position\n",
    "        if len(good_left_inds) > minpix:\n",
    "            leftx_current = np.int(np.mean(nonzerox[good_left_inds]))\n",
    "        if len(good_right_inds) > minpix:        \n",
    "            rightx_current = np.int(np.mean(nonzerox[good_right_inds]))\n",
    "\n",
    "    # Concatenate the arrays of indices (previously was a list of lists of pixels)\n",
    "    try:\n",
    "        left_lane_inds = np.concatenate(left_lane_inds)\n",
    "        right_lane_inds = np.concatenate(right_lane_inds)\n",
    "    except ValueError:\n",
    "        # Avoids an error if the above is not implemented fully\n",
    "        pass\n",
    "\n",
    "    # Extract left and right line pixel positions\n",
    "    leftx = nonzerox[left_lane_inds]\n",
    "    lefty = nonzeroy[left_lane_inds] \n",
    "    rightx = nonzerox[right_lane_inds]\n",
    "    righty = nonzeroy[right_lane_inds]\n",
    "\n",
    "    return leftx, lefty, rightx, righty, left_lane_inds, right_lane_inds, out_img\n",
    "\n",
    "# A function to fit a polynomial from detected lane pixels\n",
    "def fit_polynomial(binary_warped):\n",
    "    # Find our lane pixels first\n",
    "    leftx, lefty, rightx, righty, left_lane_inds, right_lane_inds, out_img = find_lane_pixels(binary_warped)\n",
    "\n",
    "    # Fit a second order polynomial to each using `np.polyfit`\n",
    "    left_fit = np.polyfit(lefty, leftx, 2)\n",
    "    right_fit = np.polyfit(righty, rightx, 2)\n",
    "\n",
    "    # Generate x and y values for plotting\n",
    "    ploty = np.linspace(0, binary_warped.shape[0]-1, binary_warped.shape[0] )\n",
    "    try:\n",
    "        left_fitx = left_fit[0]*ploty**2 + left_fit[1]*ploty + left_fit[2]\n",
    "        right_fitx = right_fit[0]*ploty**2 + right_fit[1]*ploty + right_fit[2]\n",
    "    except TypeError:\n",
    "        # Avoids an error if `left` and `right_fit` are still none or incorrect\n",
    "        print('The function failed to fit a line!')\n",
    "        left_fitx = 1*ploty**2 + 1*ploty\n",
    "        right_fitx = 1*ploty**2 + 1*ploty\n",
    "\n",
    "    ## Visualization ##\n",
    "    # Colors in the left and right lane regions\n",
    "    out_img[lefty, leftx] = [255, 0, 0]\n",
    "    out_img[righty, rightx] = [0, 0, 255]\n",
    "\n",
    "    # Plots the left and right polynomials on the lane lines\n",
    "    plt.plot(left_fitx, ploty, color='yellow')\n",
    "    plt.plot(right_fitx, ploty, color='yellow')\n",
    "\n",
    "    return out_img"
   ]
  },
  {
   "cell_type": "code",
   "execution_count": null,
   "metadata": {},
   "outputs": [],
   "source": [
    "# Apply the process (to find lane pixels & fit polynomial) to binary image\n",
    "out_img = fit_polynomial(thresh_img_warped)\n",
    "# Show the output image\n",
    "plt.imshow(out_img)"
   ]
  },
  {
   "cell_type": "markdown",
   "metadata": {},
   "source": [
    "# 6) Determine the curvature of the lane and vehicle position with respect to center."
   ]
  },
  {
   "cell_type": "markdown",
   "metadata": {},
   "source": [
    "### Sliding Window and Search from Prior"
   ]
  },
  {
   "cell_type": "code",
   "execution_count": null,
   "metadata": {
    "collapsed": true
   },
   "outputs": [],
   "source": [
    "# Option to enable/disable the function showing detected lane pixels & polynomial lines\n",
    "# True : enable (for easy view when checking test images)\n",
    "# False : disable (when using the pipeline to generate final video)\n",
    "for_reference = True"
   ]
  },
  {
   "cell_type": "code",
   "execution_count": null,
   "metadata": {
    "collapsed": true
   },
   "outputs": [],
   "source": [
    "# A function to fit the second order polynomial\n",
    "def fit_poly(img_shape, leftx, lefty, rightx, righty):\n",
    "    # Fit a second order polynomial to each with np.polyfit()\n",
    "    if leftx.any() and lefty.any():\n",
    "        left_fit = np.polyfit(lefty, leftx, 2)\n",
    "    else:\n",
    "        # If no lane pixels are found (rarely happen), use the default values\n",
    "        # This default value is tuned & taken from a test image (temporary value)\n",
    "        left_fit = np.array([-5.82876789e-05, 9.89023579e-03, 3.63726419e+02])\n",
    "\n",
    "    if rightx.any() and rightx.any():\n",
    "        right_fit = np.polyfit(righty, rightx, 2)\n",
    "    else:\n",
    "        # If no lane pixels are found (rarely happen), use the default values\n",
    "        # This default value is tuned & taken from a test image (temporary value)        \n",
    "        right_fit = np.array([1.13367624e-04, -3.17551122e-01, 1.14925867e+03])\n",
    "\n",
    "    # Save the polynomial fit parameters\n",
    "    lastFrame_save(lane_pickle, \"lane_params.p\", left_fit, right_fit)\n",
    "        \n",
    "    # Generate x and y values for plotting\n",
    "    ploty = np.linspace(0, img_shape[0]-1, img_shape[0])\n",
    "    # Calc both polynomials using ploty, left_fit and right_fit\n",
    "    left_fitx = left_fit[0]*ploty**2 + left_fit[1]*ploty + left_fit[2]\n",
    "    right_fitx = right_fit[0]*ploty**2 + right_fit[1]*ploty + right_fit[2]\n",
    "    \n",
    "    return left_fitx, right_fitx, ploty\n",
    "\n",
    "# A function to search around the polynomial \n",
    "def search_around_poly(binary_warped):\n",
    "    # HYPERPARAMETER\n",
    "    # Choose the width of the margin around the previous polynomial to search\n",
    "    margin = 100\n",
    "    \n",
    "    # Grab activated pixels\n",
    "    nonzero = binary_warped.nonzero()\n",
    "    nonzeroy = np.array(nonzero[0])\n",
    "    nonzerox = np.array(nonzero[1])\n",
    "    \n",
    "    if search_method == 1:\n",
    "        # Find our lane pixels first (for the first frame)\n",
    "        leftx, lefty, rightx, righty, left_lane_inds, right_lane_inds, out_img_tmp = find_lane_pixels(binary_warped)\n",
    "        # Fit new polynomials\n",
    "        left_fitx, right_fitx, ploty = fit_poly(binary_warped.shape, leftx, lefty, rightx, righty)\n",
    "    elif search_method == 2:\n",
    "        # Load the saved parameters of last frame\n",
    "        left_fit, right_fit = lastFrame_load(\"lane_params.p\")\n",
    "     \n",
    "        # If no data is saved, create it\n",
    "        if left_fit.any() == False or right_fit.any() == False:\n",
    "            # Find lane pixels (for the first frame)\n",
    "            leftx, lefty, rightx, righty, left_lane_inds, right_lane_inds, out_img_tmp = find_lane_pixels(binary_warped)\n",
    "            # Calculate & save polynomial fit parameters for left & right lane\n",
    "            left_fitx_tmp, right_fitx_tmp, ploty_tmp = fit_poly(binary_warped.shape, leftx, lefty, rightx, righty)\n",
    "            # Load the saved parameters of last frame\n",
    "            left_fit, right_fit = lastFrame_load(\"lane_params.p\")\n",
    "        \n",
    "        # Set the area of search based on activated x-values\n",
    "        # within the +/- margin of our polynomial function\n",
    "        left_lane_inds = ((nonzerox > (left_fit[0]*(nonzeroy**2) + left_fit[1]*nonzeroy + \n",
    "                        left_fit[2] - margin)) & (nonzerox < (left_fit[0]*(nonzeroy**2) + \n",
    "                        left_fit[1]*nonzeroy + left_fit[2] + margin)))\n",
    "        right_lane_inds = ((nonzerox > (right_fit[0]*(nonzeroy**2) + right_fit[1]*nonzeroy + \n",
    "                        right_fit[2] - margin)) & (nonzerox < (right_fit[0]*(nonzeroy**2) + \n",
    "                        right_fit[1]*nonzeroy + right_fit[2] + margin)))\n",
    "    \n",
    "        # Again, extract left and right line pixel positions\n",
    "        leftx = nonzerox[left_lane_inds]\n",
    "        lefty = nonzeroy[left_lane_inds] \n",
    "        rightx = nonzerox[right_lane_inds]\n",
    "        righty = nonzeroy[right_lane_inds]\n",
    "\n",
    "        # Fit new polynomials\n",
    "        left_fitx, right_fitx, ploty = fit_poly(binary_warped.shape, leftx, lefty, rightx, righty)\n",
    "    \n",
    "        # Temporary fix\n",
    "        left_ave = np.average(left_fitx)\n",
    "        right_ave = np.average(right_fitx)\n",
    "        diff_ave = right_ave - left_ave\n",
    "    \n",
    "        if (diff_ave < 680) or (diff_ave > 820) or (left_ave > 1280) or (right_ave > 1280):\n",
    "            # The detected lane lines are not suitable. Need to detect by other way\n",
    "            # Find lane pixels\n",
    "            leftx, lefty, rightx, righty, left_lane_inds, right_lane_inds, out_img_tmp = find_lane_pixels(binary_warped)\n",
    "            # Calculate & save polynomial fit parameters for left & right lane\n",
    "            left_fitx, right_fitx, ploty = fit_poly(binary_warped.shape, leftx, lefty, rightx, righty)\n",
    "    \n",
    "    # Change margin to smaller value to display the lane lines\n",
    "    # Still keep big margin when searching for high accuracy\n",
    "    margin = 30    \n",
    "    \n",
    "    ## Visualization ##\n",
    "    # Create an image to draw on and an image to show the selection window\n",
    "    if for_reference:\n",
    "        out_img = np.dstack((binary_warped, binary_warped, binary_warped))*255\n",
    "    else:\n",
    "        out_img = np.dstack((binary_warped, binary_warped, binary_warped))*0\n",
    "    window_img = np.zeros_like(out_img)\n",
    "    \n",
    "    if for_reference:\n",
    "        # Color in left and right line pixels\n",
    "        out_img[nonzeroy[left_lane_inds], nonzerox[left_lane_inds]] = [0,0,255]\n",
    "        out_img[nonzeroy[right_lane_inds], nonzerox[right_lane_inds]] = [0,0,255]\n",
    "\n",
    "    # Generate a polygon to illustrate the search window area\n",
    "    # And recast the x and y points into usable format for cv2.fillPoly()\n",
    "    left_line_window1 = np.array([np.transpose(np.vstack([left_fitx-margin, ploty]))])\n",
    "    left_line_window2 = np.array([np.flipud(np.transpose(np.vstack([left_fitx+margin, \n",
    "                              ploty])))])\n",
    "    left_line_pts = np.hstack((left_line_window1, left_line_window2))\n",
    "    right_line_window1 = np.array([np.transpose(np.vstack([right_fitx-margin, ploty]))])\n",
    "    right_line_window2 = np.array([np.flipud(np.transpose(np.vstack([right_fitx+margin, \n",
    "                              ploty])))])\n",
    "    right_line_pts = np.hstack((right_line_window1, right_line_window2))\n",
    "    \n",
    "    # Define the middle area between detected lane lines\n",
    "    middle_area = np.hstack((left_line_window2, right_line_window1))\n",
    "    # Fill middle area with color Green\n",
    "    cv2.fillPoly(window_img, np.int_([middle_area]), (0, 255, 0))\n",
    "\n",
    "    # Draw the lane onto the warped blank image\n",
    "    cv2.fillPoly(window_img, np.int_([left_line_pts]), (255,0,0))\n",
    "    cv2.fillPoly(window_img, np.int_([right_line_pts]), (255,0,0))\n",
    "    result = cv2.addWeighted(out_img, 1, window_img, 0.3, 0)\n",
    "    \n",
    "    if for_reference:\n",
    "        # Plot the polynomial lines onto the image\n",
    "        plt.plot(left_fitx, ploty, color='yellow')\n",
    "        plt.plot(right_fitx, ploty, color='yellow')\n",
    "    \n",
    "    ## End visualization steps ##\n",
    "    \n",
    "    return result, ploty, left_fitx, right_fitx"
   ]
  },
  {
   "cell_type": "code",
   "execution_count": null,
   "metadata": {
    "collapsed": true
   },
   "outputs": [],
   "source": [
    "# Pickle to keep lane line parameters of last frame\n",
    "lane_pickle = {}"
   ]
  },
  {
   "cell_type": "code",
   "execution_count": null,
   "metadata": {
    "collapsed": true
   },
   "outputs": [],
   "source": [
    "# A function to initialize the parameters of last frame to empty array\n",
    "# Parameters : coefficients for left & right lane\n",
    "def lastFrame_init(lane_pickle, filepath):\n",
    "    lane_pickle[\"left_fit\"] = np.array([])\n",
    "    lane_pickle[\"right_fit\"] = np.array([])\n",
    "    pickle.dump(lane_pickle, open(filepath,\"wb\"))\n",
    "\n",
    "# A function to save the parameters of last frame\n",
    "# Parameters : coefficients for left & right lane\n",
    "def lastFrame_save(lane_pickle, filepath, left_fit, right_fit):\n",
    "    lane_pickle[\"left_fit\"] = left_fit\n",
    "    lane_pickle[\"right_fit\"] = right_fit\n",
    "    pickle.dump(lane_pickle, open(filepath,\"wb\"))\n",
    "\n",
    "# A function to load the parameters of last frame\n",
    "# Parameters : coefficients for left & right lane\n",
    "def lastFrame_load(filepath):\n",
    "    lane_pickle = pickle.load(open(filepath,\"rb\"))\n",
    "    left_fit = lane_pickle[\"left_fit\"]\n",
    "    right_fit = lane_pickle[\"right_fit\"]\n",
    "    return left_fit, right_fit"
   ]
  },
  {
   "cell_type": "code",
   "execution_count": null,
   "metadata": {
    "collapsed": true
   },
   "outputs": [],
   "source": [
    "# Select the search method before processing the pipeline\n",
    "# 1 : process each frame separately to find lane pixels & fit a polynomial\n",
    "# 2 : use the parameters from last frame to search lane pixels & fit a polynomial \n",
    "# 3 : use convolution search (not fully supported for processing video yet)\n",
    "search_method = 2"
   ]
  },
  {
   "cell_type": "code",
   "execution_count": null,
   "metadata": {},
   "outputs": [],
   "source": [
    "# Polynomial fit values from the previous frame\n",
    "# Grab the actual values from the previous step\n",
    "# Just reference data. Will be optimized later\n",
    "left_fit_ref = np.array([-5.82876789e-05, 9.89023579e-03, 3.63726419e+02])\n",
    "right_fit_ref = np.array([1.13367624e-04, -3.17551122e-01, 1.14925867e+03])\n",
    "\n",
    "# Set the reference parameters before running the pipeline\n",
    "lastFrame_save(lane_pickle, \"lane_params.p\", left_fit_ref, right_fit_ref)\n",
    "\n",
    "# Apply the search pipepline to binary image\n",
    "boundary, ploty, left_fitx, right_fitx = search_around_poly(thresh_img_warped)\n",
    "\n",
    "# View output image\n",
    "plt.imshow(boundary)"
   ]
  },
  {
   "cell_type": "markdown",
   "metadata": {},
   "source": [
    "### Another Sliding Window Search"
   ]
  },
  {
   "cell_type": "code",
   "execution_count": null,
   "metadata": {
    "collapsed": true
   },
   "outputs": [],
   "source": [
    "# A function to create the mask window\n",
    "def window_mask(width, height, img_ref, center,level):\n",
    "    output = np.zeros_like(img_ref)\n",
    "    output[int(img_ref.shape[0]-(level+1)*height):int(img_ref.shape[0]-level*height),max(0,int(center-width/2)):min(int(center+width/2),img_ref.shape[1])] = 1\n",
    "    return output\n",
    "\n",
    "# A function to find window centroids\n",
    "def find_window_centroids(image, window_width, window_height, margin):\n",
    "    \n",
    "    window_centroids = [] # Store the (left,right) window centroid positions per level\n",
    "    window = np.ones(window_width) # Create our window template that we will use for convolutions\n",
    "    \n",
    "    # First find the two starting positions for the left and right lane by using np.sum to get the vertical image slice\n",
    "    # and then np.convolve the vertical image slice with the window template \n",
    "    \n",
    "    # Sum quarter bottom of image to get slice, could use a different ratio\n",
    "    l_sum = np.sum(image[int(3*image.shape[0]/4):,:int(image.shape[1]/2)], axis=0)\n",
    "    l_center = np.argmax(np.convolve(window,l_sum))-window_width/2\n",
    "    r_sum = np.sum(image[int(3*image.shape[0]/4):,int(image.shape[1]/2):], axis=0)\n",
    "    r_center = np.argmax(np.convolve(window,r_sum))-window_width/2+int(image.shape[1]/2)\n",
    "    \n",
    "    # Add what we found for the first layer\n",
    "    window_centroids.append((l_center,r_center))\n",
    "    \n",
    "    # Go through each layer looking for max pixel locations\n",
    "    for level in range(1,(int)(image.shape[0]/window_height)):\n",
    "\t    # convolve the window into the vertical slice of the image\n",
    "\t    image_layer = np.sum(image[int(image.shape[0]-(level+1)*window_height):int(image.shape[0]-level*window_height),:], axis=0)\n",
    "\t    conv_signal = np.convolve(window, image_layer)\n",
    "\t    # Find the best left centroid by using past left center as a reference\n",
    "\t    # Use window_width/2 as offset because convolution signal reference is at right side of window, not center of window\n",
    "\t    offset = window_width/2\n",
    "\t    l_min_index = int(max(l_center+offset-margin,0))\n",
    "\t    l_max_index = int(min(l_center+offset+margin,image.shape[1]))\n",
    "\t    l_center = np.argmax(conv_signal[l_min_index:l_max_index])+l_min_index-offset\n",
    "\t    # Find the best right centroid by using past right center as a reference\n",
    "\t    r_min_index = int(max(r_center+offset-margin,0))\n",
    "\t    r_max_index = int(min(r_center+offset+margin,image.shape[1]))\n",
    "\t    r_center = np.argmax(conv_signal[r_min_index:r_max_index])+r_min_index-offset\n",
    "\t    # Add what we found for that layer\n",
    "\t    window_centroids.append((l_center,r_center))\n",
    "\n",
    "    return window_centroids\n",
    "\n",
    "# A function to search sliding window by using convolution\n",
    "def convolution_search(img):\n",
    "    # Read in a thresholded image\n",
    "    warped = img\n",
    "    # window settings\n",
    "    window_width = 50 \n",
    "    window_height = 80 # Break image into 9 vertical layers since image height is 720\n",
    "    margin = 100 # How much to slide left and right for searching\n",
    "\n",
    "    window_centroids = find_window_centroids(warped, window_width, window_height, margin)\n",
    "\n",
    "    # If we found any window centers\n",
    "    if len(window_centroids) > 0:\n",
    "\n",
    "        # Points used to draw all the left and right windows\n",
    "        l_points = np.zeros_like(warped)\n",
    "        r_points = np.zeros_like(warped)\n",
    "\n",
    "        # Go through each level and draw the windows \t\n",
    "        for level in range(0,len(window_centroids)):\n",
    "            # Window_mask is a function to draw window areas\n",
    "            l_mask = window_mask(window_width,window_height,warped,window_centroids[level][0],level)\n",
    "            r_mask = window_mask(window_width,window_height,warped,window_centroids[level][1],level)\n",
    "            # Add graphic points from window mask here to total pixels found \n",
    "            l_points[(l_points == 255) | ((l_mask == 1) ) ] = 255\n",
    "            r_points[(r_points == 255) | ((r_mask == 1) ) ] = 255\n",
    "\n",
    "        # Draw the results\n",
    "        template = np.array(r_points+l_points,np.uint8) # add both left and right window pixels together\n",
    "        zero_channel = np.zeros_like(template) # create a zero color channel\n",
    "        template = np.array(cv2.merge((zero_channel,template,zero_channel)),np.uint8) # make window pixels green\n",
    "        warpage= np.dstack((warped, warped, warped))*255 # making the original road pixels 3 color channels\n",
    "        output = cv2.addWeighted(warpage, 1, template, 0.5, 0.0) # overlay the orignal road image with window results\n",
    " \n",
    "    # If no window centers found, just display orginal road image\n",
    "    else:\n",
    "        output = np.array(cv2.merge((warped,warped,warped)),np.uint8)\n",
    "    \n",
    "    return output"
   ]
  },
  {
   "cell_type": "code",
   "execution_count": null,
   "metadata": {},
   "outputs": [],
   "source": [
    "# Apply the search pipepline to binary image\n",
    "boundary_window = convolution_search(thresh_img_warped)\n",
    "\n",
    "# View output image\n",
    "plt.imshow(boundary_window)"
   ]
  },
  {
   "cell_type": "markdown",
   "metadata": {},
   "source": [
    "# 7) Warp the detected lane boundaries back onto the original image."
   ]
  },
  {
   "cell_type": "code",
   "execution_count": null,
   "metadata": {
    "collapsed": true
   },
   "outputs": [],
   "source": [
    "# A helper function to combine the generated binary image with initial image\n",
    "def weighted_img(img, initial_img, α=0.8, β=1., γ=0.):\n",
    "    \"\"\"\n",
    "    `img`: output image of the process    \n",
    "    `initial_img`: the image before any processing.\n",
    "    \n",
    "    The result image is computed as follows:\n",
    "    \n",
    "    initial_img * α + img * β + γ\n",
    "    NOTE: initial_img and img must be the same shape!\n",
    "    \"\"\"\n",
    "    return cv2.addWeighted(initial_img, α, img, β, γ)"
   ]
  },
  {
   "cell_type": "markdown",
   "metadata": {},
   "source": [
    "### Lane boundaries detected by sliding window & search from prior"
   ]
  },
  {
   "cell_type": "code",
   "execution_count": null,
   "metadata": {},
   "outputs": [],
   "source": [
    "# Unwarped the binary image\n",
    "# Apply perspective transform reversely by switching src & dst\n",
    "unwarped, M_perspective_reverse = warped(boundary, dst, src)\n",
    "\n",
    "# Combine unwarped binary image with boundaries to initial image\n",
    "combined = weighted_img(test_img_undist, unwarped)\n",
    "\n",
    "# Show unwarped & combined image\n",
    "show2img(unwarped,combined, \"Unwarped image with boundaries\", \"Combined with original image\")"
   ]
  },
  {
   "cell_type": "markdown",
   "metadata": {},
   "source": [
    "### Lane boundaries detected by convolution search"
   ]
  },
  {
   "cell_type": "code",
   "execution_count": null,
   "metadata": {},
   "outputs": [],
   "source": [
    "# Unwarped the binary image\n",
    "# Apply perspective transform reversely by switching src & dst\n",
    "unwarped_conv, M_perspective_reverse = warped(boundary_window, dst, src)\n",
    "\n",
    "# Combine unwarped binary image with boundaries to initial image\n",
    "combined_conv = weighted_img(test_img_undist, unwarped_conv)\n",
    "\n",
    "# Show unwarped & combined image\n",
    "show2img(unwarped_conv,combined_conv, \"Unwarped image with boundaries\", \"Combined with original image\")"
   ]
  },
  {
   "cell_type": "markdown",
   "metadata": {},
   "source": [
    "# 8) Output visual display of the lane boundaries and numerical estimation of lane curvature and vehicle position."
   ]
  },
  {
   "cell_type": "code",
   "execution_count": null,
   "metadata": {
    "collapsed": true
   },
   "outputs": [],
   "source": [
    "# A function to add culvature radius and distance from center to image\n",
    "def add_radius_distance(img, radius, distance):\n",
    "    font = cv2.FONT_HERSHEY_SIMPLEX\n",
    "    cv2.putText(img, \"Radius of curvature = %.0fm\" % radius, (50, 50), font, 2, (255,0,0), thickness=2)\n",
    "    if distance < 0:\n",
    "        cv2.putText(img, \"Vehicle is %.2fm right of center\" % np.abs(distance), (50, 120), font, 2, (255,0,0), thickness=2)\n",
    "    else:\n",
    "        cv2.putText(img, \"Vehicle is %.2fm left of center\" % distance, (50, 120), font, 2, (255,0,0), thickness=2)"
   ]
  },
  {
   "cell_type": "code",
   "execution_count": null,
   "metadata": {
    "collapsed": true
   },
   "outputs": [],
   "source": [
    "# A function to calculate culvature radius and relative position from lane coordinates\n",
    "def measure_curvature_radius_position(ploty, left_fitx, right_fitx):\n",
    "    '''\n",
    "    Calculates the curvature of polynomial functions and distance from center in meters.\n",
    "    '''\n",
    "    # Define conversions in x and y from pixels space to meters\n",
    "    ym_per_pix = 30/720 # meters per pixel in y dimension\n",
    "    xm_per_pix = 3.7/700 # meters per pixel in x dimension\n",
    "    \n",
    "    # Fit a second order polynomial to pixel positions in each fake lane line\n",
    "    # Fit new polynomials to x,y in world space\n",
    "    left_fit_cr = np.polyfit(ploty*ym_per_pix, left_fitx*xm_per_pix, 2)\n",
    "    right_fit_cr = np.polyfit(ploty*ym_per_pix, right_fitx*xm_per_pix, 2)\n",
    "    \n",
    "    # Define y-value where we want radius of curvature\n",
    "    # Choose the maximum y-value, corresponding to the bottom of the image\n",
    "    y_eval = np.max(ploty) * ym_per_pix\n",
    "    \n",
    "    # Calculation of R_curve (radius of curvature)\n",
    "    left_curverad = ((1 + (2*left_fit_cr[0]*y_eval + left_fit_cr[1])**2)**1.5) / np.absolute(2*left_fit_cr[0])\n",
    "    right_curverad = ((1 + (2*right_fit_cr[0]*y_eval + right_fit_cr[1])**2)**1.5) / np.absolute(2*right_fit_cr[0])\n",
    "    radius = (left_curverad + right_curverad)/2\n",
    "\n",
    "    # Calculate the position of left line & right lane nearest to the camera\n",
    "    left_pos = left_fit_cr[0]*(y_eval**2) + left_fit_cr[1]*y_eval + left_fit_cr[2]\n",
    "    right_pos = right_fit_cr[0]*(y_eval**2) + right_fit_cr[1]*y_eval + right_fit_cr[2]\n",
    "    \n",
    "    # Position of the center of the 2 lanes in the image\n",
    "    position = (left_pos + right_pos)/2\n",
    "\n",
    "    # Distance from the center of the image\n",
    "    # Assuming here that image.shape[1] = 1280\n",
    "    distance_from_center = position - (1280/2)*xm_per_pix \n",
    "    \n",
    "    return radius, distance_from_center"
   ]
  },
  {
   "cell_type": "code",
   "execution_count": null,
   "metadata": {},
   "outputs": [],
   "source": [
    "# Calculate curvature radius & distance from center from the data taken above\n",
    "radius, distance_from_center = measure_curvature_radius_position(ploty, left_fitx, right_fitx)\n",
    "\n",
    "# Specify the targeted image to be filled in with radius information\n",
    "curvature_image = np.copy(combined)\n",
    "\n",
    "# Fill the curvature information in targeted image\n",
    "add_radius_distance(curvature_image, radius, distance_from_center)\n",
    "\n",
    "# Show the images (before & after)\n",
    "show2img(unwarped,curvature_image, \"Unwarped image with boundaries\", \"Final image with curvature info\")"
   ]
  },
  {
   "cell_type": "code",
   "execution_count": null,
   "metadata": {
    "collapsed": true
   },
   "outputs": [],
   "source": [
    "# Save image with curvature information (for writeup)\n",
    "mpimg.imsave('output_images/test1_curvature_info.jpg', curvature_image)"
   ]
  },
  {
   "cell_type": "markdown",
   "metadata": {},
   "source": [
    "# Pipeline to process with video"
   ]
  },
  {
   "cell_type": "code",
   "execution_count": null,
   "metadata": {
    "collapsed": true
   },
   "outputs": [],
   "source": [
    "# Import everything needed to edit/save/watch video clips\n",
    "from moviepy.editor import VideoFileClip\n",
    "from IPython.display import HTML"
   ]
  },
  {
   "cell_type": "code",
   "execution_count": null,
   "metadata": {
    "collapsed": true
   },
   "outputs": [],
   "source": [
    "# Option to enable/disable the function showing detected lane pixels & polynomial lines\n",
    "# True : enable (for easy view when checking test images)\n",
    "# False : disable (when using the pipeline to generate final video)\n",
    "for_reference = False"
   ]
  },
  {
   "cell_type": "code",
   "execution_count": null,
   "metadata": {},
   "outputs": [],
   "source": [
    "# Show targeted videos in a line (for easy confirmation)\n",
    "HTML(\"\"\"<video width=\"320\" height=\"180\" title=\"Project video\" controls> \n",
    "<source src=\"project_video.mp4\">\n",
    "</video>\n",
    "<video width=\"320\" height=\"180\" title=\"Challenge video\" controls> \n",
    "<source src=\"challenge_video.mp4\">\n",
    "</video>\n",
    "<video width=\"320\" height=\"180\" title=\"Harder challenge video\" controls> \n",
    "<source src=\"harder_challenge_video.mp4\">\n",
    "</video>\"\"\")"
   ]
  },
  {
   "cell_type": "code",
   "execution_count": null,
   "metadata": {
    "collapsed": true
   },
   "outputs": [],
   "source": [
    "# Pipepline to process each image\n",
    "def process_image(img):\n",
    "    # Undistort the given image\n",
    "    undist = cv2.undistort(img, mtx, dist, None, mtx)\n",
    "    \n",
    "    # Create binary image by applying thresholds\n",
    "    binary = thresh_binary(undist)\n",
    "    \n",
    "    # Create a warped image by perspective transform\n",
    "    binary_warped, M_perspective = warped(binary, src, dst)\n",
    "    \n",
    "    # Search method 1 & 2\n",
    "    if search_method == 1 or search_method == 2:      \n",
    "        # Call the process to search & draw the lane lines\n",
    "        boundary, ploty, left_fitx, right_fitx = search_around_poly(binary_warped)\n",
    "    # Search method 3\n",
    "    else:\n",
    "        # Apply the search pipepline to binary image\n",
    "        boundary = convolution_search(binary_warped)\n",
    "    \n",
    "    # Calculate the actual radius of curvature and distance from center in meters\n",
    "    radius, distance_from_center = measure_curvature_radius_position(ploty, left_fitx, right_fitx)\n",
    "    \n",
    "    # Unwarped the binary image\n",
    "    # Apply perspective transform reversely by switching src & dst\n",
    "    binary_unwarped, M_perspective_reverse = warped(boundary, dst, src)\n",
    "    \n",
    "    # Warp the detected lane boundaries back onto the original image\n",
    "    result = weighted_img(undist,binary_unwarped)\n",
    "    \n",
    "    # Fill the curvature information in targeted image\n",
    "    add_radius_distance(result, radius, distance_from_center)\n",
    "    \n",
    "    return result"
   ]
  },
  {
   "cell_type": "code",
   "execution_count": null,
   "metadata": {},
   "outputs": [],
   "source": [
    "# Generate output project video with search method 1 (for reference)\n",
    "search_method = 1\n",
    "\n",
    "# Initialize before processing the pipeline \n",
    "lastFrame_init(lane_pickle, \"lane_params.p\")\n",
    "\n",
    "# Apply the pipeline to process project video\n",
    "# Firstly try with the first 10s\n",
    "# project_video = VideoFileClip(\"project_video.mp4\").subclip(0,10)\n",
    "# Then try with full video\n",
    "project_video = VideoFileClip(\"project_video.mp4\")\n",
    "project_video_output = 'output_videos/project_video_output_method1.mp4'\n",
    "project_video_process = project_video.fl_image(process_image)\n",
    "%time project_video_process.write_videofile(project_video_output, audio=False)"
   ]
  },
  {
   "cell_type": "code",
   "execution_count": null,
   "metadata": {
    "collapsed": true
   },
   "outputs": [],
   "source": [
    "# Select the search method before processing the pipeline\n",
    "search_method = 2"
   ]
  },
  {
   "cell_type": "code",
   "execution_count": null,
   "metadata": {},
   "outputs": [],
   "source": [
    "# Initialize before processing the pipeline \n",
    "lastFrame_init(lane_pickle, \"lane_params.p\")\n",
    "\n",
    "# Apply the pipeline to process project video\n",
    "# Firstly try with the first 10s\n",
    "# project_video = VideoFileClip(\"project_video.mp4\").subclip(0,10)\n",
    "# Then try with full video\n",
    "project_video = VideoFileClip(\"project_video.mp4\")\n",
    "project_video_output = 'output_videos/project_video_output.mp4'\n",
    "project_video_process = project_video.fl_image(process_image)\n",
    "%time project_video_process.write_videofile(project_video_output, audio=False)"
   ]
  },
  {
   "cell_type": "code",
   "execution_count": null,
   "metadata": {},
   "outputs": [],
   "source": [
    "# Show 2 videos (with search method 1 & 2) in a line for easy comparison\n",
    "HTML(\"\"\"<video width=\"480\" height=\"270\" title=\"Output video - method 1\" controls> \n",
    "<source src=\"output_videos/project_video_output_method1.mp4\">\n",
    "</video>\n",
    "<video width=\"480\" height=\"270\" title=\"Output video - method 2\" controls> \n",
    "<source src=\"output_videos/project_video_output.mp4\">\n",
    "</video>\"\"\")"
   ]
  },
  {
   "cell_type": "markdown",
   "metadata": {},
   "source": [
    "## Apply the pipeline to process with challenge videos to find the shortcomings"
   ]
  },
  {
   "cell_type": "code",
   "execution_count": null,
   "metadata": {},
   "outputs": [],
   "source": [
    "# Initialize before processing the pipeline \n",
    "lastFrame_init(lane_pickle, \"lane_params.p\")\n",
    "\n",
    "# Apply the pipeline to challenge video\n",
    "# Firstly try with the first 10s\n",
    "# challenge_video = VideoFileClip(\"challenge_video.mp4\").subclip(0,10)\n",
    "# Then try with full video\n",
    "challenge_video = VideoFileClip(\"challenge_video.mp4\")\n",
    "challenge_video_output = 'output_videos/challenge_video_output.mp4'\n",
    "challenge_video_process = challenge_video.fl_image(process_image)\n",
    "%time challenge_video_process.write_videofile(challenge_video_output, audio=False)"
   ]
  },
  {
   "cell_type": "code",
   "execution_count": null,
   "metadata": {},
   "outputs": [],
   "source": [
    "# Show 2 videos (before and after) in a line for easy comparison\n",
    "HTML(\"\"\"<video width=\"480\" height=\"270\" title=\"Challenge video\" controls> \n",
    "<source src=\"challenge_video.mp4\">\n",
    "</video>\n",
    "<video width=\"480\" height=\"270\" title=\"Output video\" controls> \n",
    "<source src=\"output_videos/challenge_video_output.mp4\">\n",
    "</video>\"\"\")"
   ]
  },
  {
   "cell_type": "code",
   "execution_count": null,
   "metadata": {},
   "outputs": [],
   "source": [
    "# Initialize before processing the pipeline \n",
    "lastFrame_init(lane_pickle, \"lane_params.p\")\n",
    "\n",
    "# Apply the pipeline to challenge video\n",
    "# Firstly try with the first 10s\n",
    "# harder_challenge_video = VideoFileClip(\"harder_challenge_video.mp4\").subclip(0,10)\n",
    "# Then try with full video\n",
    "harder_challenge_video = VideoFileClip(\"harder_challenge_video.mp4\")\n",
    "harder_challenge_video_output = 'output_videos/harder_challenge_video_output.mp4'\n",
    "harder_challenge_video_process = harder_challenge_video.fl_image(process_image)\n",
    "%time harder_challenge_video_process.write_videofile(harder_challenge_video_output, audio=False)"
   ]
  },
  {
   "cell_type": "code",
   "execution_count": null,
   "metadata": {},
   "outputs": [],
   "source": [
    "# Show 2 videos (before and after) in a line for easy comparison\n",
    "HTML(\"\"\"<video width=\"480\" height=\"270\" title=\"Harder challenge video\" controls> \n",
    "<source src=\"harder_challenge_video.mp4\">\n",
    "</video>\n",
    "<video width=\"480\" height=\"270\" title=\"Output video\" controls> \n",
    "<source src=\"output_videos/harder_challenge_video_output.mp4\">\n",
    "</video>\"\"\")"
   ]
  },
  {
   "cell_type": "markdown",
   "metadata": {
    "collapsed": true
   },
   "source": [
    "## Just for checking the performance on difficult frame for further improvement"
   ]
  },
  {
   "cell_type": "code",
   "execution_count": null,
   "metadata": {},
   "outputs": [],
   "source": [
    "# Load the targeted clip\n",
    "debug_video = VideoFileClip(\"project_video.mp4\")\n",
    "# Pick an image/frame from the clip for further analysis\n",
    "# Frame at 41.8s has heavy shadow\n",
    "debug_img = debug_video.get_frame(41.8)\n",
    "print('This image is:', type(debug_img), 'with dimensions:', debug_img.shape)"
   ]
  },
  {
   "cell_type": "code",
   "execution_count": null,
   "metadata": {
    "collapsed": true
   },
   "outputs": [],
   "source": [
    "# Undistort targeted image\n",
    "debug_img_undist = cv2.undistort(debug_img, mtx, dist, None, mtx)"
   ]
  },
  {
   "cell_type": "code",
   "execution_count": null,
   "metadata": {},
   "outputs": [],
   "source": [
    "# Specify the thresholding method\n",
    "threshold_method = 2\n",
    "# Check the thresholded binary image\n",
    "debug_img_binary = thresh_binary(debug_img_undist)\n",
    "show2img_gray(debug_img_undist, debug_img_binary, \"Original Image\", \"S-Channel (HLS) threshold\")"
   ]
  },
  {
   "cell_type": "code",
   "execution_count": null,
   "metadata": {},
   "outputs": [],
   "source": [
    "# Specify the thresholding method\n",
    "threshold_method = 5\n",
    "# Check the thresholded binary image\n",
    "debug_img_binary_1 = thresh_binary(debug_img_undist)\n",
    "show2img_gray(debug_img_undist, debug_img_binary_1, \"Original Image\", \"Combined thresholds\")"
   ]
  },
  {
   "cell_type": "code",
   "execution_count": null,
   "metadata": {
    "collapsed": true
   },
   "outputs": [],
   "source": [
    "# Call the pipeline to process the image\n",
    "threshold_method = 5\n",
    "lastFrame_init(lane_pickle, \"lane_params.p\")\n",
    "processed_debug_img = process_image(debug_img_undist)"
   ]
  },
  {
   "cell_type": "code",
   "execution_count": null,
   "metadata": {},
   "outputs": [],
   "source": [
    "# Show 2 images (original & processed image)\n",
    "show2img_gray(debug_img_undist, processed_debug_img, \"Original Image\", \"Processed Image\")"
   ]
  },
  {
   "cell_type": "code",
   "execution_count": null,
   "metadata": {
    "collapsed": true
   },
   "outputs": [],
   "source": []
  }
 ],
 "metadata": {
  "anaconda-cloud": {},
  "kernelspec": {
   "display_name": "Python 3",
   "language": "python",
   "name": "python3"
  },
  "language_info": {
   "codemirror_mode": {
    "name": "ipython",
    "version": 3
   },
   "file_extension": ".py",
   "mimetype": "text/x-python",
   "name": "python",
   "nbconvert_exporter": "python",
   "pygments_lexer": "ipython3",
   "version": "3.5.2"
  },
  "widgets": {
   "state": {},
   "version": "1.1.2"
  }
 },
 "nbformat": 4,
 "nbformat_minor": 1
}
